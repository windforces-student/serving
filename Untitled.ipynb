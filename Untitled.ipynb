{
 "cells": [
  {
   "cell_type": "markdown",
   "metadata": {
    "slideshow": {
     "slide_type": "slide"
    },
    "tags": []
   },
   "source": [
    "# Time Series Model for Predicting Energy Consumption with GAN-augmented Dataset\n",
    "## By 박재성"
   ]
  },
  {
   "cell_type": "markdown",
   "metadata": {
    "slideshow": {
     "slide_type": "slide"
    },
    "tags": []
   },
   "source": [
    "## Introduction\n",
    "<img src=\"figures/figure1.jpeg\" style=\"width: 256px;\"/>\n",
    "\n",
    "*Figure1. 태양광 발전*\n",
    "\n",
    "* 본 프로젝트는 에너지 사용량 예측을 통해 지속가능한 발전에 도움이 될 수 있는 서비스를 목표로 한다.    \n",
    "* 공개된 데이터셋을 통해 패턴을 학습하고 이를 실제 데이터셋에 평가한다.  \n",
    "* REST-API 서비스를 통해 과거 수요량으로부터 미래 수요량을 예측하는 서비스를 제작한다.  "
   ]
  },
  {
   "cell_type": "markdown",
   "metadata": {
    "slideshow": {
     "slide_type": "slide"
    },
    "tags": []
   },
   "source": [
    "## Related Works\n",
    "\n",
    "* 공개된 데이터셋 중 [1] AMP 데이터셋이 있다. 2012 년도부터 2014 년도까지의 캐나다의 전력 사용량을 집계한 데이터셋이다. \n",
    "* 해당 태스크에 사용가능한 모델로 [2] Time GAN 모델과 [3] MTSS GAN 모델이 있다. 두 모델 모두 학습 데이터로부터 패턴을 학습한 후, 데이터를 생성한다.\n",
    "* 모델이 잘 학습되었는지 여부는 feature 에 [4] PCA 를 적용하여 [5] t-SNE 로 시각화를 진행하여 질적 분석을 진행한다."
   ]
  },
  {
   "cell_type": "markdown",
   "metadata": {
    "slideshow": {
     "slide_type": "slide"
    },
    "tags": []
   },
   "source": [
    "## Architecture\n",
    "<img src=\"figures/Architecture - Content Management.png\" style=\"width: 512px;\"/>"
   ]
  },
  {
   "cell_type": "markdown",
   "metadata": {
    "slideshow": {
     "slide_type": "slide"
    },
    "tags": []
   },
   "source": [
    "## Timeline\n",
    "\n",
    "|       | 연구주제 선정 | 데이터 학습 및 생성 | 생성 데이터셋 파인튜닝 | 성능평가 | REST-API 작성 | GCP 배포 |\n",
    "|:-----:|:-------------:|:-------------------:|:----------------------:|:--------:|:-------------:|:--------:|\n",
    "|  9 월 |       v       |                     |                        |          |               |          |\n",
    "| 10 월 |               |          v          |            v           |     v    |               |          |\n",
    "| 11 월 |               |                     |                        |     v    |       v       |     v    |"
   ]
  },
  {
   "cell_type": "markdown",
   "metadata": {
    "slideshow": {
     "slide_type": "slide"
    },
    "tags": []
   },
   "source": [
    "## References\n",
    "[1] Makonin, S., Ellert, B., Bajic, I. V., and Popowich, F. (2016). Electricity, water, and natural gas\n",
    "consumption of a residential house in Canada from 2012 to 2014. Scientific Data, 3(160037):1–12.  \n",
    "[2] Yoon, J., Jarrett, D., & van der Schaar, M. (2019). Time-series generative adversarial networks.\n",
    "Advances in Neural Information Processing Systems, , 32.  \n",
    "[3] Pei, H., Ren, K., Yang, Y., Liu, C., Qin, T., & Li, D. (2021). Towards generating real-world\n",
    "time series data arXiv.  \n",
    "[4] Laurens van der Maaten and Geoffrey Hinton. Visualizing data using t-sne. Journal of machine\n",
    "learning research, 9(Nov):2579–2605, 2008.  \n",
    "[5] Fred B Bryant and Paul R Yarnold. Principal-components analysis and exploratory and confirmatory\n",
    "factor analysis. 1995.   "
   ]
  },
  {
   "cell_type": "code",
   "execution_count": null,
   "metadata": {},
   "outputs": [],
   "source": []
  }
 ],
 "metadata": {
  "kernelspec": {
   "display_name": "Python 3",
   "language": "python",
   "name": "python3"
  },
  "language_info": {
   "codemirror_mode": {
    "name": "ipython",
    "version": 3
   },
   "file_extension": ".py",
   "mimetype": "text/x-python",
   "name": "python",
   "nbconvert_exporter": "python",
   "pygments_lexer": "ipython3",
   "version": "3.6.8"
  }
 },
 "nbformat": 4,
 "nbformat_minor": 4
}
